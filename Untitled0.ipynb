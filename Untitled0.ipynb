{
  "nbformat": 4,
  "nbformat_minor": 0,
  "metadata": {
    "colab": {
      "provenance": [],
      "authorship_tag": "ABX9TyPFm8ETpojigQoF6YKC6/PC",
      "include_colab_link": true
    },
    "kernelspec": {
      "name": "python3",
      "display_name": "Python 3"
    },
    "language_info": {
      "name": "python"
    }
  },
  "cells": [
    {
      "cell_type": "markdown",
      "metadata": {
        "id": "view-in-github",
        "colab_type": "text"
      },
      "source": [
        "<a href=\"https://colab.research.google.com/github/inseoo/22_2_basic-python/blob/main/Untitled0.ipynb\" target=\"_parent\"><img src=\"https://colab.research.google.com/assets/colab-badge.svg\" alt=\"Open In Colab\"/></a>"
      ]
    },
    {
      "cell_type": "code",
      "execution_count": 1,
      "metadata": {
        "id": "PV3kHmi-OHTj",
        "colab": {
          "base_uri": "https://localhost:8080/"
        },
        "outputId": "d56b8c27-5582-433f-db07-ed0b8f91081c"
      },
      "outputs": [
        {
          "output_type": "stream",
          "name": "stdout",
          "text": [
            "x= 10\n",
            "x= 3.14\n",
            "x= Hellow World!\n"
          ]
        }
      ],
      "source": [
        "x=10\n",
        "print(\"x=\",x)\n",
        "x=3.14\n",
        "print(\"x=\",x)\n",
        "x=\"Hellow World!\"\n",
        "print(\"x=\",x)"
      ]
    },
    {
      "cell_type": "code",
      "source": [
        "x=input(\"정수를 입력하시오:\")\n",
        "y=input(\"정수를 입력하시오:]\")\n",
        "print(x+y)\n"
      ],
      "metadata": {
        "id": "CM8KrTHBOjye",
        "colab": {
          "base_uri": "https://localhost:8080/"
        },
        "outputId": "b2c40dd3-80b5-407e-8e7f-d108af9aa58d"
      },
      "execution_count": 7,
      "outputs": [
        {
          "output_type": "stream",
          "name": "stdout",
          "text": [
            "정수를 입력하시오:100\n",
            "정수를 입력하시오:200\n",
            "100200\n"
          ]
        }
      ]
    },
    {
      "cell_type": "code",
      "source": [
        "x=int(input(\"정수를 입력하시오:\"))\n",
        "y=int(input(\"정수를 입력하시오:\"))\n",
        "print(x+y)"
      ],
      "metadata": {
        "colab": {
          "base_uri": "https://localhost:8080/"
        },
        "id": "5RT93GaZTpjt",
        "outputId": "2efebb23-1829-4ec4-d427-d787777f091f"
      },
      "execution_count": 8,
      "outputs": [
        {
          "output_type": "stream",
          "name": "stdout",
          "text": [
            "정수를 입력하시오:100\n",
            "정수를 입력하시오:200\n",
            "300\n"
          ]
        }
      ]
    },
    {
      "cell_type": "code",
      "source": [
        "t=input(\"정수를 입력하시오:\")\n",
        "x=int(t)\n",
        "\n",
        "t=input(\"정수를 입력하시오:\")\n",
        "y=int(t)\n",
        "\n",
        "print(x+y)"
      ],
      "metadata": {
        "colab": {
          "base_uri": "https://localhost:8080/"
        },
        "id": "cX7GUgnrUJsH",
        "outputId": "74c70ad8-e26b-4b3b-e22e-a487a11233bb"
      },
      "execution_count": 9,
      "outputs": [
        {
          "output_type": "stream",
          "name": "stdout",
          "text": [
            "정수를 입력하시오:100\n",
            "정수를 입력하시오:200\n",
            "300\n"
          ]
        }
      ]
    }
  ]
}